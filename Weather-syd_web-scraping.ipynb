{
 "cells": [
  {
   "cell_type": "code",
   "execution_count": 9,
   "metadata": {},
   "outputs": [],
   "source": [
    "import requests\n",
    "page = requests.get(\"http://www.bom.gov.au/nsw/forecasts/sydney.shtml\")"
   ]
  },
  {
   "cell_type": "code",
   "execution_count": 10,
   "metadata": {},
   "outputs": [
    {
     "data": {
      "text/plain": [
       "'Sydney Forecast'"
      ]
     },
     "execution_count": 10,
     "metadata": {},
     "output_type": "execute_result"
    }
   ],
   "source": [
    "from bs4 import BeautifulSoup\n",
    "soup=BeautifulSoup(page.content,\"html.parser\")\n",
    "soup.title\n",
    "soup.title.string"
   ]
  },
  {
   "cell_type": "code",
   "execution_count": 20,
   "metadata": {},
   "outputs": [
    {
     "name": "stdout",
     "output_type": "stream",
     "text": [
      "Sydney Forecast\n"
     ]
    }
   ],
   "source": [
    "all=soup.find(\"div\",{\"id\":\"columns\"}).find(\"h1\").text\n",
    "print(all)\n",
    "table=soup.find_all(\"div\",id=\"content\")\n",
    "l=[]\n",
    "for items in table:\n",
    "    for i in range(len(items.find_all(\"tr\"))-1):\n",
    "        d={}\n",
    "        d[\"summary\"]=items.find_all(\"dd\",{\"class\":\"summary\"})[i].text\n",
    "        d[\"max_value\"]=items.find_all(\"em\",{\"class\":\"max\"})[i].text\n",
    "#        d[\"min_value\"]=items.find_all(\"em\",{\"class\":\"min\"})[i].text\n",
    "        d[\"rain\"]=items.find_all(\"dd\",{\"class\":\"rain\"})[i].text\n",
    "        d[\"pop\"]=items.find_all(\"em\",{\"class\":\"pop\"})[i].text\n",
    "        l.append(d)"
   ]
  },
  {
   "cell_type": "code",
   "execution_count": 23,
   "metadata": {},
   "outputs": [
    {
     "name": "stdout",
     "output_type": "stream",
     "text": [
      "  max_value              pop                                 rain  \\\n",
      "0        20  20%\\n\\t\\t\\t\\t\\t  Chance of any rain: 20%\\n\\t\\t\\t\\t\\t   \n",
      "1        19   0%\\n\\t\\t\\t\\t\\t   Chance of any rain: 0%\\n\\t\\t\\t\\t\\t   \n",
      "2        25   0%\\n\\t\\t\\t\\t\\t   Chance of any rain: 0%\\n\\t\\t\\t\\t\\t   \n",
      "3        23  20%\\n\\t\\t\\t\\t\\t  Chance of any rain: 20%\\n\\t\\t\\t\\t\\t   \n",
      "4        20  40%\\n\\t\\t\\t\\t\\t         Possible rainfall: 0 to 2 mm   \n",
      "5        19  50%\\n\\t\\t\\t\\t\\t  Chance of any rain: 40%\\n\\t\\t\\t\\t\\t   \n",
      "6        21  50%\\n\\t\\t\\t\\t\\t         Possible rainfall: 0 to 2 mm   \n",
      "\n",
      "                 summary                                      period  \n",
      "0  Windy. Partly cloudy.  <h2>Forecast for the rest of Thursday</h2>  \n",
      "1                 Sunny.                   <h2>Friday 23 August</h2>  \n",
      "2                 Sunny.                 <h2>Saturday 24 August</h2>  \n",
      "3         Partly cloudy.                   <h2>Sunday 25 August</h2>  \n",
      "4       Possible shower.                   <h2>Monday 26 August</h2>  \n",
      "5         Shower or two.                  <h2>Tuesday 27 August</h2>  \n",
      "6         Shower or two.                <h2>Wednesday 28 August</h2>  \n"
     ]
    }
   ],
   "source": [
    "import pandas as pd\n",
    "\n",
    "period = items.find_all(\"h2\")\n",
    "df = pd.DataFrame(l)\n",
    "df['period']= period\n",
    "print(df)\n",
    "\n",
    "df.to_csv(\"test1_sydney.csv\")"
   ]
  }
 ],
 "metadata": {
  "kernelspec": {
   "display_name": "Python 3",
   "language": "python",
   "name": "python3"
  },
  "language_info": {
   "codemirror_mode": {
    "name": "ipython",
    "version": 3
   },
   "file_extension": ".py",
   "mimetype": "text/x-python",
   "name": "python",
   "nbconvert_exporter": "python",
   "pygments_lexer": "ipython3",
   "version": "3.6.8"
  }
 },
 "nbformat": 4,
 "nbformat_minor": 2
}
